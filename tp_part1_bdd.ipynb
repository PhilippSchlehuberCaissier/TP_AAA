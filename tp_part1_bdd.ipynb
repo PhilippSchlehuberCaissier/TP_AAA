{
 "cells": [
  {
   "cell_type": "code",
   "execution_count": 5,
   "id": "07ea8363",
   "metadata": {},
   "outputs": [],
   "source": [
    "from pyeda.inter import *\n",
    "from gvmagic import *"
   ]
  },
  {
   "cell_type": "code",
   "execution_count": 6,
   "id": "042cacb3",
   "metadata": {},
   "outputs": [
    {
     "data": {
      "text/plain": [
       "Or(And(a, b), And(a, c), And(b, c))"
      ]
     },
     "execution_count": 6,
     "metadata": {},
     "output_type": "execute_result"
    }
   ],
   "source": [
    "f = expr(\"a & b | a & c | b & c\")\n",
    "f"
   ]
  },
  {
   "cell_type": "code",
   "execution_count": 7,
   "id": "9ae93408",
   "metadata": {},
   "outputs": [
    {
     "data": {
      "text/plain": [
       "<pyeda.boolalg.bdd.BinaryDecisionDiagram at 0x7f77bafd8be0>"
      ]
     },
     "execution_count": 7,
     "metadata": {},
     "output_type": "execute_result"
    }
   ],
   "source": [
    "b = expr2bdd(f)\n",
    "b"
   ]
  },
  {
   "cell_type": "code",
   "execution_count": 8,
   "id": "bfbcd4f2",
   "metadata": {},
   "outputs": [],
   "source": [
    "%load_ext gvmagic"
   ]
  },
  {
   "cell_type": "code",
   "execution_count": 9,
   "id": "bdf39c1e",
   "metadata": {},
   "outputs": [
    {
     "data": {
      "image/svg+xml": [
       "<svg xmlns=\"http://www.w3.org/2000/svg\" xmlns:xlink=\"http://www.w3.org/1999/xlink\" width=\"135pt\" height=\"305pt\" viewBox=\"0.00 0.00 135.00 305.00\">\n",
       "<g id=\"graph0\" class=\"graph\" transform=\"scale(1 1) rotate(0) translate(4 301)\">\n",
       "<title>BDD</title>\n",
       "<polygon fill=\"white\" stroke=\"transparent\" points=\"-4,4 -4,-301 131,-301 131,4 -4,4\"/>\n",
       "<!-- n140152702381168 -->\n",
       "<g id=\"node1\" class=\"node\">\n",
       "<title>n140152702381168</title>\n",
       "<polygon fill=\"none\" stroke=\"black\" points=\"54,-36 0,-36 0,0 54,0 54,-36\"/>\n",
       "<text text-anchor=\"middle\" x=\"27\" y=\"-14.3\" font-family=\"Times,serif\" font-size=\"14.00\">0</text>\n",
       "</g>\n",
       "<!-- n140152702431344 -->\n",
       "<g id=\"node2\" class=\"node\">\n",
       "<title>n140152702431344</title>\n",
       "<polygon fill=\"none\" stroke=\"black\" points=\"127,-36 73,-36 73,0 127,0 127,-36\"/>\n",
       "<text text-anchor=\"middle\" x=\"100\" y=\"-14.3\" font-family=\"Times,serif\" font-size=\"14.00\">1</text>\n",
       "</g>\n",
       "<!-- n140152215014128 -->\n",
       "<g id=\"node3\" class=\"node\">\n",
       "<title>n140152215014128</title>\n",
       "<ellipse fill=\"none\" stroke=\"black\" cx=\"61\" cy=\"-105\" rx=\"18\" ry=\"18\"/>\n",
       "<text text-anchor=\"middle\" x=\"61\" y=\"-101.3\" font-family=\"Times,serif\" font-size=\"14.00\">c</text>\n",
       "</g>\n",
       "<!-- n140152215014128&#45;&#45;n140152702381168 -->\n",
       "<g id=\"edge1\" class=\"edge\">\n",
       "<title>n140152215014128--n140152702381168</title>\n",
       "<path fill=\"none\" stroke=\"black\" stroke-dasharray=\"5,2\" d=\"M54.6,-88.01C48.68,-73.2 39.89,-51.23 33.83,-36.08\"/>\n",
       "<text text-anchor=\"middle\" x=\"51\" y=\"-57.8\" font-family=\"Times,serif\" font-size=\"14.00\">0</text>\n",
       "</g>\n",
       "<!-- n140152215014128&#45;&#45;n140152702431344 -->\n",
       "<g id=\"edge2\" class=\"edge\">\n",
       "<title>n140152215014128--n140152702431344</title>\n",
       "<path fill=\"none\" stroke=\"black\" d=\"M68.15,-88.41C74.93,-73.65 85.08,-51.53 92.09,-36.25\"/>\n",
       "<text text-anchor=\"middle\" x=\"87\" y=\"-57.8\" font-family=\"Times,serif\" font-size=\"14.00\">1</text>\n",
       "</g>\n",
       "<!-- n140152215014176 -->\n",
       "<g id=\"node4\" class=\"node\">\n",
       "<title>n140152215014176</title>\n",
       "<ellipse fill=\"none\" stroke=\"black\" cx=\"43\" cy=\"-192\" rx=\"18\" ry=\"18\"/>\n",
       "<text text-anchor=\"middle\" x=\"43\" y=\"-188.3\" font-family=\"Times,serif\" font-size=\"14.00\">b</text>\n",
       "</g>\n",
       "<!-- n140152215014176&#45;&#45;n140152702381168 -->\n",
       "<g id=\"edge3\" class=\"edge\">\n",
       "<title>n140152215014176--n140152702381168</title>\n",
       "<path fill=\"none\" stroke=\"black\" stroke-dasharray=\"5,2\" d=\"M37.12,-174.78C32.51,-161.16 26.48,-141.09 24,-123 19.83,-92.58 22.52,-56.7 24.8,-36.02\"/>\n",
       "<text text-anchor=\"middle\" x=\"29\" y=\"-101.3\" font-family=\"Times,serif\" font-size=\"14.00\">0</text>\n",
       "</g>\n",
       "<!-- n140152215014176&#45;&#45;n140152215014128 -->\n",
       "<g id=\"edge4\" class=\"edge\">\n",
       "<title>n140152215014176--n140152215014128</title>\n",
       "<path fill=\"none\" stroke=\"black\" d=\"M46.56,-174.21C49.71,-159.31 54.3,-137.65 57.45,-122.76\"/>\n",
       "<text text-anchor=\"middle\" x=\"58\" y=\"-144.8\" font-family=\"Times,serif\" font-size=\"14.00\">1</text>\n",
       "</g>\n",
       "<!-- n140152215014416 -->\n",
       "<g id=\"node5\" class=\"node\">\n",
       "<title>n140152215014416</title>\n",
       "<ellipse fill=\"none\" stroke=\"black\" cx=\"97\" cy=\"-192\" rx=\"18\" ry=\"18\"/>\n",
       "<text text-anchor=\"middle\" x=\"97\" y=\"-188.3\" font-family=\"Times,serif\" font-size=\"14.00\">b</text>\n",
       "</g>\n",
       "<!-- n140152215014416&#45;&#45;n140152702431344 -->\n",
       "<g id=\"edge6\" class=\"edge\">\n",
       "<title>n140152215014416--n140152702431344</title>\n",
       "<path fill=\"none\" stroke=\"black\" d=\"M97.3,-173.88C97.87,-140.91 99.13,-68.97 99.7,-36.05\"/>\n",
       "<text text-anchor=\"middle\" x=\"103\" y=\"-101.3\" font-family=\"Times,serif\" font-size=\"14.00\">1</text>\n",
       "</g>\n",
       "<!-- n140152215014416&#45;&#45;n140152215014128 -->\n",
       "<g id=\"edge5\" class=\"edge\">\n",
       "<title>n140152215014416--n140152215014128</title>\n",
       "<path fill=\"none\" stroke=\"black\" stroke-dasharray=\"5,2\" d=\"M90.23,-175.01C83.79,-159.82 74.17,-137.09 67.74,-121.92\"/>\n",
       "<text text-anchor=\"middle\" x=\"86\" y=\"-144.8\" font-family=\"Times,serif\" font-size=\"14.00\">0</text>\n",
       "</g>\n",
       "<!-- n140152215013792 -->\n",
       "<g id=\"node6\" class=\"node\">\n",
       "<title>n140152215013792</title>\n",
       "<ellipse fill=\"none\" stroke=\"black\" cx=\"69\" cy=\"-279\" rx=\"18\" ry=\"18\"/>\n",
       "<text text-anchor=\"middle\" x=\"69\" y=\"-275.3\" font-family=\"Times,serif\" font-size=\"14.00\">a</text>\n",
       "</g>\n",
       "<!-- n140152215013792&#45;&#45;n140152215014176 -->\n",
       "<g id=\"edge7\" class=\"edge\">\n",
       "<title>n140152215013792--n140152215014176</title>\n",
       "<path fill=\"none\" stroke=\"black\" stroke-dasharray=\"5,2\" d=\"M63.99,-261.61C59.38,-246.56 52.6,-224.37 48,-209.34\"/>\n",
       "<text text-anchor=\"middle\" x=\"62\" y=\"-231.8\" font-family=\"Times,serif\" font-size=\"14.00\">0</text>\n",
       "</g>\n",
       "<!-- n140152215013792&#45;&#45;n140152215014416 -->\n",
       "<g id=\"edge8\" class=\"edge\">\n",
       "<title>n140152215013792--n140152215014416</title>\n",
       "<path fill=\"none\" stroke=\"black\" d=\"M74.4,-261.61C79.36,-246.56 86.66,-224.37 91.62,-209.34\"/>\n",
       "<text text-anchor=\"middle\" x=\"89\" y=\"-231.8\" font-family=\"Times,serif\" font-size=\"14.00\">1</text>\n",
       "</g>\n",
       "</g>\n",
       "</svg>"
      ],
      "text/plain": [
       "<IPython.core.display.SVG object>"
      ]
     },
     "metadata": {},
     "output_type": "display_data"
    }
   ],
   "source": [
    "%dotobj b"
   ]
  },
  {
   "cell_type": "code",
   "execution_count": null,
   "id": "c3e80423",
   "metadata": {},
   "outputs": [],
   "source": []
  }
 ],
 "metadata": {
  "kernelspec": {
   "display_name": "Python 3 (ipykernel)",
   "language": "python",
   "name": "python3"
  },
  "language_info": {
   "codemirror_mode": {
    "name": "ipython",
    "version": 3
   },
   "file_extension": ".py",
   "mimetype": "text/x-python",
   "name": "python",
   "nbconvert_exporter": "python",
   "pygments_lexer": "ipython3",
   "version": "3.8.10"
  }
 },
 "nbformat": 4,
 "nbformat_minor": 5
}
