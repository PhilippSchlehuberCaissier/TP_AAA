{
 "cells": [
  {
   "cell_type": "markdown",
   "metadata": {
    "pycharm": {
     "name": "#%% md\n"
    }
   },
   "source": [
    "# Lift demo"
   ]
  },
  {
   "cell_type": "markdown",
   "metadata": {
    "pycharm": {
     "name": "#%% md\n"
    }
   },
   "source": [
    "This notebook demonstrates:\n",
    "- how to load a DiVinE model using the `%%dve` magic\n",
    "- how to use Spot's functions to build a model checker in a few lines"
   ]
  },
  {
   "cell_type": "code",
   "execution_count": 5,
   "metadata": {
    "pycharm": {
     "name": "#%%\n"
    }
   },
   "outputs": [],
   "source": [
    "from AAA_utils import *"
   ]
  },
  {
   "cell_type": "markdown",
   "metadata": {
    "pycharm": {
     "name": "#%% md\n"
    }
   },
   "source": [
    "## The model"
   ]
  },
  {
   "cell_type": "markdown",
   "metadata": {
    "pycharm": {
     "name": "#%% md\n"
    }
   },
   "source": [
    "In the following model, the global variable `req[i]` is `1` iff the elevator has been requested on floor `i`.\n",
    "Variable `t` represents the *target* floor of the lift, and `p` its current *position*.\n",
    "The `go` is a Boolean that the controller sets to instruct the cabin to move, and that the cabin reset upon reaching the target floor."
   ]
  },
  {
   "cell_type": "code",
   "execution_count": 6,
   "metadata": {
    "pycharm": {
     "name": "#%%\n"
    }
   },
   "outputs": [
    {
     "name": "stderr",
     "output_type": "stream",
     "text": [
      "UsageError: Cell magic `%%dve` not found.\n"
     ]
    }
   ],
   "source": [
    "%%dve lift_model\n",
    "byte req[4];\n",
    "int t,p;\n",
    "byte go;\n",
    "\n",
    "process cabin\n",
    "{\n",
    "  state idle, mov, open;\n",
    "  init idle;\n",
    "  trans\n",
    "    idle -> mov  {guard go>0;},\n",
    "    mov -> open  {guard t==p;},\n",
    "    mov -> mov   {guard t<p; effect p=p-1;},\n",
    "    mov -> mov   {guard t>p; effect p=p+1;},\n",
    "    open -> idle {effect req[p]=0,go=0;};\n",
    "}\n",
    "\n",
    "process environment\n",
    "{\n",
    "  state read;\n",
    "  init read;\n",
    "  trans\n",
    "    read -> read {guard req[0]==0; effect req[0]=1;} ,\n",
    "    read -> read {guard req[1]==0; effect req[1]=1;} ,\n",
    "    read -> read {guard req[2]==0; effect req[2]=1;} ,\n",
    "    read -> read {guard req[3]==0; effect req[3]=1;};\n",
    "}\n",
    "\n",
    "process controller\n",
    "{\n",
    "  state work;\n",
    "  init work;\n",
    "  trans\n",
    "    work -> work {guard req[0]==1 && go==0; effect t=0, go=1;},\n",
    "    work -> work {guard req[1]==1 && go==0; effect t=1, go=1;},\n",
    "    work -> work {guard req[2]==1 && go==0; effect t=2, go=1;},\n",
    "    work -> work {guard req[3]==1 && go==0; effect t=3, go=1;};\n",
    "}\n",
    "\n",
    "/*\n",
    "process controller\n",
    "{\n",
    "  byte ldir;\n",
    "  state wait, work, done;\n",
    "  init wait;\n",
    "  trans\n",
    "    wait -> work {guard go==0; effect t=t+(2*ldir)-1;},\n",
    "    work -> wait {guard t<0 || t==4; effect ldir=1-ldir;},\n",
    "    work -> done {guard t>=0 && t<4 && req[t]==1;},\n",
    "    work -> work {guard t>=0 && t<4 && req[t]==0; effect t=t+(2*ldir)-1;},\n",
    "    done -> wait {effect go=1;};\n",
    "}\n",
    "*/\n",
    "\n",
    "system async;"
   ]
  },
  {
   "cell_type": "markdown",
   "metadata": {
    "pycharm": {
     "name": "#%% md\n"
    }
   },
   "source": [
    "Evaluating the above cell has compiled and loaded the model.  The argument of `%%dve` is the name of a variable that serves as a handle to that model.  Printing this variable will list all global variables "
   ]
  },
  {
   "cell_type": "code",
   "execution_count": 4,
   "metadata": {
    "pycharm": {
     "name": "#%%\n"
    }
   },
   "outputs": [
    {
     "ename": "NameError",
     "evalue": "name 'lift_model' is not defined",
     "output_type": "error",
     "traceback": [
      "\u001B[0;31m---------------------------------------------------------------------------\u001B[0m",
      "\u001B[0;31mNameError\u001B[0m                                 Traceback (most recent call last)",
      "Input \u001B[0;32mIn [4]\u001B[0m, in \u001B[0;36m<module>\u001B[0;34m\u001B[0m\n\u001B[0;32m----> 1\u001B[0m \u001B[43mlift_model\u001B[49m\n",
      "\u001B[0;31mNameError\u001B[0m: name 'lift_model' is not defined"
     ]
    }
   ],
   "source": [
    "lift_model"
   ]
  },
  {
   "cell_type": "markdown",
   "metadata": {
    "pycharm": {
     "name": "#%% md\n"
    }
   },
   "source": [
    "To build a state space, we can use the `kripke()` method.  The argument is a list of atomic propositions (involving the model's variables) we want to use to label the Kripke structure.  If we just want to count the number of reachable states, we can just pass an empty list."
   ]
  },
  {
   "cell_type": "code",
   "execution_count": null,
   "metadata": {
    "pycharm": {
     "name": "#%%\n"
    }
   },
   "outputs": [],
   "source": [
    "k = lift_model.kripke([])\n",
    "spot.stats_reachable(k).states"
   ]
  },
  {
   "cell_type": "markdown",
   "metadata": {
    "pycharm": {
     "name": "#%% md\n"
    }
   },
   "source": [
    "Using the specialized `lift_display()`, we can explore the start of the state space.  Do not try to display to many states, because the graph layout (done by GraphViz) will be very time consuming."
   ]
  },
  {
   "cell_type": "code",
   "execution_count": null,
   "metadata": {
    "scrolled": true,
    "pycharm": {
     "name": "#%%\n"
    }
   },
   "outputs": [],
   "source": [
    "@interact(n=IntSlider(1, 1, 150, 5))\n",
    "def uncover_state_space(n):\n",
    "    return lift_display(k, n)"
   ]
  },
  {
   "cell_type": "markdown",
   "metadata": {
    "pycharm": {
     "name": "#%% md\n"
    }
   },
   "source": [
    "## Model checking, step by step"
   ]
  },
  {
   "cell_type": "markdown",
   "metadata": {
    "pycharm": {
     "name": "#%% md\n"
    }
   },
   "source": [
    "The LTL property we want to check is that if whenever (`G`) the lift is called on the second floor (numbering is 0-based, so this is `req[1]`), then eventually (`F`) the lift will reach thich floor (`p==0`) and open its doors (`cabin.open`)."
   ]
  },
  {
   "cell_type": "code",
   "execution_count": null,
   "metadata": {
    "pycharm": {
     "name": "#%%\n"
    }
   },
   "outputs": [],
   "source": [
    "f = spot.formula('G(\"req[1]\" -> F(\"p==1\" && \"cabin.open\"))')"
   ]
  },
  {
   "cell_type": "markdown",
   "metadata": {
    "pycharm": {
     "name": "#%% md\n"
    }
   },
   "source": [
    "We can collect the atomic propositions needed by this property:"
   ]
  },
  {
   "cell_type": "code",
   "execution_count": null,
   "metadata": {
    "pycharm": {
     "name": "#%%\n"
    }
   },
   "outputs": [],
   "source": [
    "aplist = spot.atomic_prop_collect(f)\n",
    "aplist"
   ]
  },
  {
   "cell_type": "markdown",
   "metadata": {
    "pycharm": {
     "name": "#%% md\n"
    }
   },
   "source": [
    "An now we build a state space labeled by those atomic propositions:"
   ]
  },
  {
   "cell_type": "code",
   "execution_count": null,
   "metadata": {
    "pycharm": {
     "name": "#%%\n"
    }
   },
   "outputs": [],
   "source": [
    "k = lift_model.kripke(aplist)\n",
    "k.show('.A<12')"
   ]
  },
  {
   "cell_type": "markdown",
   "metadata": {
    "pycharm": {
     "name": "#%% md\n"
    }
   },
   "source": [
    "The above \"Kripke structure\" can be interpreted as an automaton by pushing labels onto the outgoing transitions\n",
    "(in Spot, this is just a rendering option; in practice behaving like an automaton is achieved by satisfying the OO interface for automata)."
   ]
  },
  {
   "cell_type": "code",
   "execution_count": null,
   "metadata": {
    "pycharm": {
     "name": "#%%\n"
    }
   },
   "outputs": [],
   "source": [
    "k.show('.1AK<12')"
   ]
  },
  {
   "cell_type": "markdown",
   "metadata": {
    "pycharm": {
     "name": "#%% md\n"
    }
   },
   "source": [
    "Similarly, the negation of the LTL property can be translated into an automaton that recognize all behaviours we do not want to see in our model."
   ]
  },
  {
   "cell_type": "code",
   "execution_count": null,
   "metadata": {
    "pycharm": {
     "name": "#%%\n"
    }
   },
   "outputs": [],
   "source": [
    "aut = spot.formula_Not(f).translate()\n",
    "aut"
   ]
  },
  {
   "cell_type": "markdown",
   "metadata": {
    "pycharm": {
     "name": "#%% md\n"
    }
   },
   "source": [
    "And then we just have to check if there exists a `run` of `k` that intersects `aut`."
   ]
  },
  {
   "cell_type": "code",
   "execution_count": null,
   "metadata": {
    "pycharm": {
     "name": "#%%\n"
    }
   },
   "outputs": [],
   "source": [
    "run = k.intersecting_run(aut)\n",
    "print(run)\n"
   ]
  },
  {
   "cell_type": "markdown",
   "metadata": {
    "pycharm": {
     "name": "#%% md\n"
    }
   },
   "source": [
    "We can also display this run graphically:"
   ]
  },
  {
   "cell_type": "code",
   "execution_count": null,
   "metadata": {
    "pycharm": {
     "name": "#%%\n"
    }
   },
   "outputs": [],
   "source": [
    "lift_display(run)"
   ]
  },
  {
   "cell_type": "markdown",
   "metadata": {
    "pycharm": {
     "name": "#%% md\n"
    }
   },
   "source": [
    "## A model checker in 5 lines\n",
    "\n",
    "Putting this all together, here is a function that takes an LTSmin model and a formula, and that returns a counterexample if one exists."
   ]
  },
  {
   "cell_type": "code",
   "execution_count": null,
   "metadata": {
    "pycharm": {
     "name": "#%%\n"
    }
   },
   "outputs": [],
   "source": [
    "def model_check(model, f):\n",
    "    f = spot.formula(f)\n",
    "    ss = model.kripke(spot.atomic_prop_collect(f))\n",
    "    nf = spot.formula.Not(f).translate()\n",
    "    return ss.intersecting_run(nf)"
   ]
  },
  {
   "cell_type": "code",
   "execution_count": null,
   "metadata": {
    "pycharm": {
     "name": "#%%\n"
    }
   },
   "outputs": [],
   "source": [
    "run = model_check(lift_model, 'G(\"req[1]\" -> F(\"p==1\" && \"cabin.open\"))')\n",
    "lift_display(run)"
   ]
  },
  {
   "cell_type": "markdown",
   "metadata": {
    "pycharm": {
     "name": "#%% md\n"
    }
   },
   "source": [
    "Now you could go back to the model, and change the controler to get rid of that scenario."
   ]
  }
 ],
 "metadata": {
  "kernelspec": {
   "display_name": "Python 3",
   "language": "python",
   "name": "python3"
  },
  "language_info": {
   "codemirror_mode": {
    "name": "ipython",
    "version": 3
   },
   "file_extension": ".py",
   "mimetype": "text/x-python",
   "name": "python",
   "nbconvert_exporter": "python",
   "pygments_lexer": "ipython3",
   "version": "3.9.2"
  },
  "widgets": {
   "state": {
    "f3b900a1a93246a9b5029dfad8dfe00c": {
     "views": [
      {
       "cell_index": 4
      }
     ]
    }
   },
   "version": "1.2.0"
  }
 },
 "nbformat": 4,
 "nbformat_minor": 2
}